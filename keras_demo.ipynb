{
  "nbformat": 4,
  "nbformat_minor": 0,
  "metadata": {
    "colab": {
      "name": "MNIST.ipynb",
      "provenance": [],
      "collapsed_sections": []
    },
    "kernelspec": {
      "name": "python3",
      "display_name": "Python 3"
    }
  },
  "cells": [
    {
      "cell_type": "markdown",
      "metadata": {
        "id": "cw4CCpLz2Ir6"
      },
      "source": [
        "**Introduction to Keras Demo**"
      ]
    },
    {
      "cell_type": "markdown",
      "source": [
        "**Linear Regression in Keras**"
      ],
      "metadata": {
        "id": "fT8H2wCwFOOn"
      }
    },
    {
      "cell_type": "code",
      "metadata": {
        "id": "Jd9C-iHvQ6kW"
      },
      "source": [
        "import keras #ML Library\n",
        "import numpy as np #Mathematics Library\n",
        "import pandas as pd #Data-handling Library\n",
        "import matplotlib.pyplot as plt #Used to graph our results"
      ],
      "execution_count": 17,
      "outputs": []
    },
    {
      "cell_type": "markdown",
      "source": [
        "**Next,The csv file is to be loaded**"
      ],
      "metadata": {
        "id": "HjaEbd0GEICv"
      }
    },
    {
      "cell_type": "code",
      "source": [
        "import io\n",
        "df = pd.read_csv(\"/content/IowaHousingPrices.csv\")\n",
        "# Dataset is now stored in a Pandas Dataframe"
      ],
      "metadata": {
        "id": "TWML39n_DPRY"
      },
      "execution_count": 18,
      "outputs": []
    },
    {
      "cell_type": "markdown",
      "source": [
        "**Now that we've loaded the csv into pandas, we will separate the two columns of features we want to use. squareFeet will be our x value and salePrice will be our y value.**"
      ],
      "metadata": {
        "id": "yTFheXwYEL0F"
      }
    },
    {
      "cell_type": "code",
      "source": [
        "squareFeet = df[['SquareFeet']].values #x value\n",
        "salePrice = df[['SalePrice']].values #y value"
      ],
      "metadata": {
        "id": "Pd8BFtVDDQfd"
      },
      "execution_count": 19,
      "outputs": []
    },
    {
      "cell_type": "code",
      "source": [
        "import tensorflow as tf\n",
        "from tensorflow import keras\n",
        "keras.optimizers.Adam"
      ],
      "metadata": {
        "colab": {
          "base_uri": "https://localhost:8080/"
        },
        "id": "AMWsP-NMDv6F",
        "outputId": "a233e086-9fd4-416e-a575-8f1948f648f3"
      },
      "execution_count": 21,
      "outputs": [
        {
          "output_type": "execute_result",
          "data": {
            "text/plain": [
              "keras.optimizer_v2.adam.Adam"
            ]
          },
          "metadata": {},
          "execution_count": 21
        }
      ]
    },
    {
      "cell_type": "markdown",
      "source": [
        "**Here we create the model and fit it to our square feet and sale price. Adjust the epochs, learning rate, and batch size for the outcome that is the fastest and most accurate.**"
      ],
      "metadata": {
        "id": "hpGXhwojEPeG"
      }
    },
    {
      "cell_type": "markdown",
      "source": [
        "**Now that our model is trained, we need to use matplotlib to plot our data and the line that we have created so that we can see how accurate it is.**\n",
        "\n"
      ],
      "metadata": {
        "id": "2p8R91nYEQUP"
      }
    },
    {
      "cell_type": "code",
      "source": [
        "model = keras.Sequential()\n",
        "model.add(keras.layers.Dense(1, input_shape=(1,)))\n",
        "model.compile(keras.optimizers.Adam(lr=1), 'mean_squared_error')\n",
        "\n",
        "model.fit(squareFeet,salePrice, epochs=30, batch_size=10)"
      ],
      "metadata": {
        "id": "LGVnKwLjDQim",
        "colab": {
          "base_uri": "https://localhost:8080/"
        },
        "outputId": "8489d41a-e87e-449e-f319-cad5fb4a0357"
      },
      "execution_count": 22,
      "outputs": [
        {
          "output_type": "stream",
          "name": "stderr",
          "text": [
            "/usr/local/lib/python3.7/dist-packages/keras/optimizer_v2/adam.py:105: UserWarning: The `lr` argument is deprecated, use `learning_rate` instead.\n",
            "  super(Adam, self).__init__(name, **kwargs)\n"
          ]
        },
        {
          "output_type": "stream",
          "name": "stdout",
          "text": [
            "Epoch 1/30\n",
            "146/146 [==============================] - 1s 1ms/step - loss: 15685731328.0000\n",
            "Epoch 2/30\n",
            "146/146 [==============================] - 0s 1ms/step - loss: 3426424320.0000\n",
            "Epoch 3/30\n",
            "146/146 [==============================] - 0s 1ms/step - loss: 3192730880.0000\n",
            "Epoch 4/30\n",
            "146/146 [==============================] - 0s 1ms/step - loss: 3195869952.0000\n",
            "Epoch 5/30\n",
            "146/146 [==============================] - 0s 1ms/step - loss: 3195851008.0000\n",
            "Epoch 6/30\n",
            "146/146 [==============================] - 0s 1ms/step - loss: 3203445760.0000\n",
            "Epoch 7/30\n",
            "146/146 [==============================] - 0s 1ms/step - loss: 3190984192.0000\n",
            "Epoch 8/30\n",
            "146/146 [==============================] - 0s 1ms/step - loss: 3189530368.0000\n",
            "Epoch 9/30\n",
            "146/146 [==============================] - 0s 1ms/step - loss: 3193201664.0000\n",
            "Epoch 10/30\n",
            "146/146 [==============================] - 0s 1ms/step - loss: 3188632064.0000\n",
            "Epoch 11/30\n",
            "146/146 [==============================] - 0s 1ms/step - loss: 3187131392.0000\n",
            "Epoch 12/30\n",
            "146/146 [==============================] - 0s 1ms/step - loss: 3184091904.0000\n",
            "Epoch 13/30\n",
            "146/146 [==============================] - 0s 1ms/step - loss: 3204228864.0000\n",
            "Epoch 14/30\n",
            "146/146 [==============================] - 0s 1ms/step - loss: 3210957056.0000\n",
            "Epoch 15/30\n",
            "146/146 [==============================] - 0s 1ms/step - loss: 3212026368.0000\n",
            "Epoch 16/30\n",
            "146/146 [==============================] - 0s 1ms/step - loss: 3209026560.0000\n",
            "Epoch 17/30\n",
            "146/146 [==============================] - 0s 1ms/step - loss: 3197853952.0000\n",
            "Epoch 18/30\n",
            "146/146 [==============================] - 0s 1ms/step - loss: 3195408896.0000\n",
            "Epoch 19/30\n",
            "146/146 [==============================] - 0s 1ms/step - loss: 3207825920.0000\n",
            "Epoch 20/30\n",
            "146/146 [==============================] - 0s 1ms/step - loss: 3197398016.0000\n",
            "Epoch 21/30\n",
            "146/146 [==============================] - 0s 1ms/step - loss: 3196232448.0000\n",
            "Epoch 22/30\n",
            "146/146 [==============================] - 0s 1ms/step - loss: 3206266624.0000\n",
            "Epoch 23/30\n",
            "146/146 [==============================] - 0s 1ms/step - loss: 3198849536.0000\n",
            "Epoch 24/30\n",
            "146/146 [==============================] - 0s 1ms/step - loss: 3207442688.0000\n",
            "Epoch 25/30\n",
            "146/146 [==============================] - 0s 1ms/step - loss: 3204622848.0000\n",
            "Epoch 26/30\n",
            "146/146 [==============================] - 0s 1ms/step - loss: 3216738816.0000\n",
            "Epoch 27/30\n",
            "146/146 [==============================] - 0s 1ms/step - loss: 3208523008.0000\n",
            "Epoch 28/30\n",
            "146/146 [==============================] - 0s 1ms/step - loss: 3220199168.0000\n",
            "Epoch 29/30\n",
            "146/146 [==============================] - 0s 1ms/step - loss: 3176956416.0000\n",
            "Epoch 30/30\n",
            "146/146 [==============================] - 0s 1ms/step - loss: 3215499264.0000\n"
          ]
        },
        {
          "output_type": "execute_result",
          "data": {
            "text/plain": [
              "<keras.callbacks.History at 0x7f961bfc5610>"
            ]
          },
          "metadata": {},
          "execution_count": 22
        }
      ]
    },
    {
      "cell_type": "code",
      "source": [
        "#Plot datapoints\n",
        "df.plot(kind='scatter',\n",
        "       x='SquareFeet',\n",
        "       y='SalePrice', title='Housing Prices and Square Footage of Iowa Homes')\n",
        "\n",
        "\n",
        "y_pred = model.predict(squareFeet) #The predicted housing price based on square feet\n",
        "\n",
        "#Plot the linear regression line\n",
        "plt.plot(squareFeet, y_pred, color='red')"
      ],
      "metadata": {
        "id": "sGNRSVEYDQmK",
        "colab": {
          "base_uri": "https://localhost:8080/",
          "height": 312
        },
        "outputId": "cbe33672-0b28-4f85-f9f9-b57d8c465751"
      },
      "execution_count": 23,
      "outputs": [
        {
          "output_type": "execute_result",
          "data": {
            "text/plain": [
              "[<matplotlib.lines.Line2D at 0x7f96211ba290>]"
            ]
          },
          "metadata": {},
          "execution_count": 23
        },
        {
          "output_type": "display_data",
          "data": {
            "text/plain": [
              "<Figure size 432x288 with 1 Axes>"
            ],
            "image/png": "[encoded data removed]"
          },
          "metadata": {
            "needs_background": "light"
          }
        }
      ]
    },
    {
      "cell_type": "markdown",
      "source": [
        "**Finally, if we want to predict the price of a new house, we use the following code. We set the square footage equale to newSF and the output is the expected price in US dollars**"
      ],
      "metadata": {
        "id": "mmuOCEv1EUln"
      }
    },
    {
      "cell_type": "code",
      "source": [
        "newSF = 2000\n",
        "print(model.predict([newSF]))"
      ],
      "metadata": {
        "id": "uBj2A0mkDQoy",
        "colab": {
          "base_uri": "https://localhost:8080/"
        },
        "outputId": "913e875d-8118-4036-f433-3f777eab9267"
      },
      "execution_count": 24,
      "outputs": [
        {
          "output_type": "stream",
          "name": "stdout",
          "text": [
            "[[242208.12]]\n"
          ]
        }
      ]
    },
    {
      "cell_type": "markdown",
      "source": [
        "**Keras Convolutional Neural Network (CNN)**"
      ],
      "metadata": {
        "id": "yzEOcHhNFIaB"
      }
    },
    {
      "cell_type": "code",
      "source": [
        "import tensorflow as tf\n",
        "from tensorflow import keras\n",
        "keras.datasets\n",
        "import keras\n",
        "mnist = keras.datasets.mnist\n",
        "(x_train, y_train), (x_test, y_test) = mnist.load_data()"
      ],
      "metadata": {
        "id": "FKg3lxRiDQ90"
      },
      "execution_count": 25,
      "outputs": []
    },
    {
      "cell_type": "code",
      "metadata": {
        "id": "oJeyAH802pPv",
        "outputId": "bfa61b98-803f-4454-bf57-69d48673f42b",
        "colab": {
          "base_uri": "https://localhost:8080/",
          "height": 282
        }
      },
      "source": [
        "import matplotlib.pyplot as plt\n",
        "plt.imshow(x_train[0]) #training image\n",
        "plt.show()\n",
        "print(y_train[0]) #what the number is supposed to be"
      ],
      "execution_count": 26,
      "outputs": [
        {
          "output_type": "display_data",
          "data": {
            "text/plain": [
              "<Figure size 432x288 with 1 Axes>"
            ],
            "image/png": "[encoded data removed]"
          },
          "metadata": {
            "needs_background": "light"
          }
        },
        {
          "output_type": "stream",
          "name": "stdout",
          "text": [
            "5\n"
          ]
        }
      ]
    },
    {
      "cell_type": "markdown",
      "metadata": {
        "id": "d7PcC6_o3NZk"
      },
      "source": [
        "**Next, we need to break the data down so that the neural network can digest it easier.**"
      ]
    },
    {
      "cell_type": "code",
      "metadata": {
        "id": "Uf98legWy-yf"
      },
      "source": [
        "#Reshape the data\n",
        "x_train = x_train.reshape(x_train.shape[0], 28, 28, 1)\n",
        "x_test = x_test.reshape(x_test.shape[0], 28, 28, 1)\n",
        "input_shape = (28, 28, 1)\n",
        "\n",
        "#Normalize the pixel values from a scale out of 255 to a scale out of 1\n",
        "x_train = x_train.astype('float32')\n",
        "x_test = x_test.astype('float32')\n",
        "x_train /= 255\n",
        "x_test /= 255"
      ],
      "execution_count": 27,
      "outputs": []
    },
    {
      "cell_type": "markdown",
      "metadata": {
        "id": "KoRdc4BG3x0f"
      },
      "source": [
        "**Then, we convert the y values (numbers) into ones and zeros, making each number categorical. This is called one-hot encoding. Without it, the neural network might categorize numbers based on how they are related numerically rather than how they look. To learn more about one-hot encoding, [click here](https://www.youtube.com/watch?v=v_4KWmkwmsU)**"
      ]
    },
    {
      "cell_type": "code",
      "metadata": {
        "id": "z3OWzdb3zPue",
        "outputId": "fe40d8d7-6971-4078-9880-e4f26bf6bfed",
        "colab": {
          "base_uri": "https://localhost:8080/"
        }
      },
      "source": [
        "\n",
        "print(y_train[0])\n",
        "import tensorflow as tf\n",
        "\n",
        "\n",
        "y_train = tf.keras.utils.to_categorical(y_train, 10)\n",
        "y_test = tf.keras.utils.to_categorical(y_test, 10)\n",
        "\n",
        "print(y_train[0])"
      ],
      "execution_count": 28,
      "outputs": [
        {
          "output_type": "stream",
          "name": "stdout",
          "text": [
            "5\n",
            "[0. 0. 0. 0. 0. 1. 0. 0. 0. 0.]\n"
          ]
        }
      ]
    },
    {
      "cell_type": "markdown",
      "metadata": {
        "id": "c2s2RVUx6HDz"
      },
      "source": [
        "**It's time to build the neural network. Each layer is a different type of neuron.**"
      ]
    },
    {
      "cell_type": "code",
      "metadata": {
        "id": "q29QKMVSQ_92"
      },
      "source": [
        "model = keras.models.Sequential()\n",
        "model.add(keras.layers.Conv2D(32, kernel_size=(3, 3), activation='relu',\n",
        "                              input_shape=input_shape))\n",
        "\n",
        "model.add(keras.layers.Conv2D(64, (3, 3), activation='relu'))\n",
        "model.add(keras.layers.MaxPooling2D(pool_size=(2, 2)))\n",
        "model.add(keras.layers.Dropout(0.25))\n",
        "model.add(keras.layers.Flatten())\n",
        "model.add(keras.layers.Dense(128, activation='relu'))\n",
        "model.add(keras.layers.Dropout(0.5))\n",
        "model.add(keras.layers.Dense(10, activation='softmax'))"
      ],
      "execution_count": 29,
      "outputs": []
    },
    {
      "cell_type": "markdown",
      "metadata": {
        "id": "YPT1WgLf6tcH"
      },
      "source": [
        "**Next, we need to train the network. Feel free to switch around the type optimizer, number of epochs, or batch size. Depending on how fast your GPU is, this model can take some time to train. On the colab GPU, one epoch takes around 2 minutes.**"
      ]
    },
    {
      "cell_type": "code",
      "metadata": {
        "id": "bNvM_k_m1MPF",
        "colab": {
          "base_uri": "https://localhost:8080/"
        },
        "outputId": "2aeabf78-b860-4fa8-e13f-33ca08c10268"
      },
      "source": [
        "model.compile(loss=keras.losses.categorical_crossentropy,\n",
        "              optimizer=tf.keras.optimizers.Adadelta(),\n",
        "              metrics=['accuracy'])\n",
        "\n",
        "model.fit(x_train, y_train,\n",
        "          batch_size=128,\n",
        "          epochs=1,\n",
        "          validation_data=(x_test, y_test))"
      ],
      "execution_count": 32,
      "outputs": [
        {
          "output_type": "stream",
          "name": "stdout",
          "text": [
            "469/469 [==============================] - 167s 353ms/step - loss: 2.2852 - accuracy: 0.1373 - val_loss: 2.2440 - val_accuracy: 0.3163\n"
          ]
        },
        {
          "output_type": "execute_result",
          "data": {
            "text/plain": [
              "<keras.callbacks.History at 0x7f961b74d150>"
            ]
          },
          "metadata": {},
          "execution_count": 32
        }
      ]
    },
    {
      "cell_type": "markdown",
      "metadata": {
        "id": "fV-tE9jI7PJd"
      },
      "source": [
        "**Finally, run the model on the test data and print the results. The first number is the loss and the second number is the accuracy out of 1.**"
      ]
    },
    {
      "cell_type": "code",
      "metadata": {
        "id": "oulwHbLkXoyd",
        "outputId": "b1154d78-6e00-49f6-becf-23ca975411a8",
        "colab": {
          "base_uri": "https://localhost:8080/"
        }
      },
      "source": [
        "print(model.evaluate(x_test, y_test))"
      ],
      "execution_count": 33,
      "outputs": [
        {
          "output_type": "stream",
          "name": "stdout",
          "text": [
            "313/313 [==============================] - 8s 26ms/step - loss: 2.2440 - accuracy: 0.3163\n",
            "[2.243952989578247, 0.31630000472068787]\n"
          ]
        }
      ]
    }
  ]
}